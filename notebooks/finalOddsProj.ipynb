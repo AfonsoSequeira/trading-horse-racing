{
 "cells": [
  {
   "cell_type": "code",
   "execution_count": 1,
   "metadata": {},
   "outputs": [],
   "source": [
    "from oddsCheckerScraper import scrapeOddsChecker\n",
    "from oddsCheckerScraper import bookmakers\n",
    "from SmarketsRaceBuilder import smarketsRaceBuilder\n",
    "import betfairClient"
   ]
  },
  {
   "cell_type": "code",
   "execution_count": null,
   "metadata": {},
   "outputs": [],
   "source": [
    "smarketsPrices, urls = smarketsRaceBuilder(8)"
   ]
  },
  {
   "cell_type": "code",
   "execution_count": null,
   "metadata": {},
   "outputs": [],
   "source": [
    "for x in urls:\n",
    "    print(x)"
   ]
  },
  {
   "cell_type": "code",
   "execution_count": null,
   "metadata": {},
   "outputs": [],
   "source": [
    "betCl = betfairClient.betFairClient()\n",
    "betCl.login()\n",
    "betFairPrices, urls = betCl.getAllHorsePrices(24)"
   ]
  },
  {
   "cell_type": "code",
   "execution_count": null,
   "metadata": {},
   "outputs": [],
   "source": [
    "for x in urls:\n",
    "    print(x)"
   ]
  },
  {
   "cell_type": "code",
   "execution_count": null,
   "metadata": {},
   "outputs": [],
   "source": [
    "oddsCheckerPrices = scrapeOddsChecker(urls, bookmakers, False)"
   ]
  },
  {
   "cell_type": "code",
   "execution_count": null,
   "metadata": {},
   "outputs": [],
   "source": [
    "for price in betFairPrices:\n",
    "    price.printPrice()"
   ]
  },
  {
   "cell_type": "code",
   "execution_count": null,
   "metadata": {},
   "outputs": [],
   "source": [
    "for price in oddsCheckerPrices:\n",
    "    price.printPrice()"
   ]
  },
  {
   "cell_type": "code",
   "execution_count": null,
   "metadata": {},
   "outputs": [],
   "source": [
    "len(smarketsPrices)"
   ]
  },
  {
   "cell_type": "code",
   "execution_count": null,
   "metadata": {},
   "outputs": [],
   "source": [
    "for i in range(0,len(smarketsPrices)):\n",
    "    print(i)\n",
    "    smarketsPrices[i].getInfo()"
   ]
  },
  {
   "cell_type": "code",
   "execution_count": null,
   "metadata": {
    "scrolled": true
   },
   "outputs": [],
   "source": [
    "betFairPrices[5].printPrice()\n",
    "oddsCheckerPrices[0].printPrice()"
   ]
  },
  {
   "cell_type": "code",
   "execution_count": 2,
   "metadata": {},
   "outputs": [],
   "source": [
    "#race comparison, function to take a list of smarkets horse racing markets and a list of bookie horse racing markets\n",
    "def compareRaces(exchange_market, bookies_market):\n",
    "    if exchange_market.prices[0] == None or exchange_market.prices[0][1] == None:\n",
    "        return (None, \"did not have to winner price\")\n",
    "    \n",
    "    exchange_oddsBack, exchange_OddsLay = exchange_market.prices[0]\n",
    "    winExchangeOdds = 0.5 * exchange_oddsBack + 0.5 * exchange_OddsLay\n",
    "    \n",
    "    placeOdds = exchange_market.prices[bookies_market.ewPlaces - 1]\n",
    "    \n",
    "    if placeOdds == None:\n",
    "        #inverselist = exchange_market.prices[::-1]\n",
    "        #estimatedPrice= next(item for item in a if item is not None)\n",
    "        #new_place, exchange_placeOddsBack, exchange_placeOddsLay = estimatedPrice\n",
    "        #new_place += 1\n",
    "        #note = (\"used odds for place \" + str(new_place) + \" instead of \" + str(bookies_market.ewPlaces))\n",
    "        return (None, \"did not have to place price\", \"NoValue\")\n",
    "    elif bookies_market.price == \"SP\":\n",
    "        return (None, \"did not have to bookie price\" , \"NoValue\")\n",
    "    else:\n",
    "        exchange_placeOddsBack, exchange_placeOddsLay = placeOdds\n",
    "        note = \"used correct place odds\"\n",
    "        placeExchangeOdds = 0.5 * exchange_placeOddsBack + 0.5 * exchange_placeOddsLay #exchange_placeOddsLay\n",
    "    \n",
    "        winProbs = 1/winExchangeOdds\n",
    "        placeProbs = 1/placeExchangeOdds\n",
    "        placeOnlyProbs = placeProbs - winProbs\n",
    "\n",
    "        bookieWin = bookies_market.price\n",
    "        bookiePlace = ((bookieWin - 1)/bookies_market.ewDenominator) + 1\n",
    "\n",
    "        winProfit = bookieWin + bookiePlace - 2\n",
    "        placeProfit = bookiePlace - 2\n",
    "        loseProfit = -2\n",
    "\n",
    "        expectedProfit = winProbs * winProfit + placeOnlyProbs * placeProfit + (1 - placeProbs) * (-2)\n",
    "        expectedValue = (expectedProfit/2)\n",
    "        \n",
    "        if expectedValue > 0:\n",
    "            return (expectedValue, note, \"VALUE!\") \n",
    "        else:\n",
    "            return (expectedValue, note, \"NoValue\") \n",
    "        \n",
    "        \n",
    "def matchRaces(bookieRaces, exchangeRaces):\n",
    "    paired_list = []\n",
    "    for exchangePrice in exchangeRaces:\n",
    "        bookiePrices = [x for x in bookieRaces if x.name.lower() == exchangePrice.name] \n",
    "        if not bookiePrices:\n",
    "            continue \n",
    "        else:\n",
    "            paired_list.append([exchangePrice, bookiePrices])\n",
    "            \n",
    "    return paired_list"
   ]
  },
  {
   "cell_type": "code",
   "execution_count": 3,
   "metadata": {},
   "outputs": [],
   "source": [
    "class valuePrice:\n",
    "    def __init__(self, name = None, bookmaker = None, event_name =  None, event_date = None,\n",
    "                 currentPrice = None, exchangeWinPrices = None, exchangePlacePrices = None,\n",
    "                 places = None, value = None):\n",
    "        self.name = name\n",
    "        self.bookie = bookmaker\n",
    "        self.event_name = event_name\n",
    "        self.event_date = event_date\n",
    "        self.currentPrice = currentPrice\n",
    "        self.exchangeWinPrices = exchangeWinPrices\n",
    "        self.exchangePlacePrices = exchangePlacePrices\n",
    "        self.places = places\n",
    "        self.value = value\n",
    "        \n",
    "    def printInfo(self):\n",
    "        print(\"---> Name: \", self.name,\n",
    "              \"\\n|Bookmaker: \", self.bookie,\n",
    "              \"\\n|Event name: \",self.event_name,\n",
    "              \"\\n|Event date: \",self.event_date,\n",
    "              \"\\n|Current bookie price: \", self.currentPrice,\n",
    "              \"\\n|Current exchange win price: \", self.exchangeWinPrices,\n",
    "              \"\\n|Current exchange place price: \", self.exchangePlacePrices,\n",
    "              \"\\n|Value: \", self.value)\n",
    "        \n",
    "        \n",
    "def checkValueRaces(bookieRaces, exchangeRaces):\n",
    "    assessedMarketList = []\n",
    "    valueFinds = []\n",
    "    matchedRaces = matchRaces(bookieRaces, exchangeRaces)\n",
    "    for matchedExchangePrice in matchedRaces:\n",
    "        exchP = matchedExchangePrice[0]\n",
    "        #print(\"\\n\\nExchange price:\")\n",
    "        for bookP in matchedExchangePrice[1]:\n",
    "            value = compareRaces(exchP, bookP)\n",
    "            assessedMarketList.append((exchP.name, exchP.event_name, bookP.bookie, value))\n",
    "            if value[0] != None and value[0] > 0:\n",
    "                currentPrice = bookP.price\n",
    "                newValuePrice = valuePrice(exchP.name,bookP.bookie,exchP.event_name, exchP.date, bookP.price,\n",
    "                                          exchP.prices[0], exchP.prices[bookP.ewPlaces - 1],bookP.ewPlaces, value)\n",
    "                valueFinds.append(newValuePrice)\n",
    "            \n",
    "            \n",
    "    return valueFinds, newValuePrice"
   ]
  },
  {
   "cell_type": "code",
   "execution_count": null,
   "metadata": {},
   "outputs": [],
   "source": [
    "vals, allVals = checkValueRaces(oddsCheckerPrices, betFairPrices)"
   ]
  },
  {
   "cell_type": "code",
   "execution_count": null,
   "metadata": {},
   "outputs": [],
   "source": [
    "for val in vals:\n",
    "    val.printInfo()"
   ]
  },
  {
   "cell_type": "code",
   "execution_count": 4,
   "metadata": {},
   "outputs": [],
   "source": [
    "def runValueFinder(h_thresh):\n",
    "    \n",
    "    betCl = betfairClient.betFairClient()\n",
    "    betCl.login()\n",
    "    betFairPrices, urls = betCl.getAllHorsePrices(h_thresh)\n",
    "    \n",
    "    for url in urls:\n",
    "        print(url)\n",
    "        \n",
    "    oddsCheckerPrices = scrapeOddsChecker(urls, bookmakers, False, False)\n",
    "    if len(urls) == 0:\n",
    "        print(\"no races within time frame\")\n",
    "        \n",
    "        return betFairPrices, oddsCheckerPrices, None\n",
    "    else:\n",
    "        print(\"Here\")\n",
    "        valueFinds, allMarkets = checkValueRaces(oddsCheckerPrices, betFairPrices)\n",
    "        \n",
    "        return betFairPrices, oddsCheckerPrices, valueFinds, allMarkets"
   ]
  },
  {
   "cell_type": "code",
   "execution_count": 5,
   "metadata": {
    "scrolled": false
   },
   "outputs": [
    {
     "name": "stdout",
     "output_type": "stream",
     "text": [
      "Getting horses for event Southwell\n",
      "Getting horses for event Kelso\n",
      "Getting horses for event Chelmsford City\n",
      "https://www.oddschecker.com/horse-racing/Chelmsford-City/19:00/winner\n",
      "https://www.oddschecker.com/horse-racing/Chelmsford-City/18:00/winner\n",
      "https://www.oddschecker.com/horse-racing/Chelmsford-City/19:30/winner\n",
      "https://www.oddschecker.com/horse-racing/Chelmsford-City/20:30/winner\n",
      "https://www.oddschecker.com/horse-racing/Chelmsford-City/18:30/winner\n",
      "https://www.oddschecker.com/horse-racing/Chelmsford-City/20:00/winner\n",
      "Scraping  1  of  6  urls.\n"
     ]
    },
    {
     "name": "stderr",
     "output_type": "stream",
     "text": [
      "C:\\Users\\User\\Desktop\\Learning\\Betting\\trading-horse-racing\\oddsCheckerScraper.py:39: GuessedAtParserWarning: No parser was explicitly specified, so I'm using the best available HTML parser for this system (\"lxml\"). This usually isn't a problem, but if you run this code on another system, or in a different virtual environment, it may use a different parser and behave differently.\n",
      "\n",
      "The code that caused this warning is on line 39 of the file C:\\Users\\User\\Desktop\\Learning\\Betting\\trading-horse-racing\\oddsCheckerScraper.py. To get rid of this warning, pass the additional argument 'features=\"lxml\"' to the BeautifulSoup constructor.\n",
      "\n",
      "  soup = BeautifulSoup(prettyHTML)\n"
     ]
    },
    {
     "name": "stdout",
     "output_type": "stream",
     "text": [
      "Scraping  2  of  6  urls.\n",
      "Scraping  3  of  6  urls.\n",
      "Scraping  4  of  6  urls.\n",
      "Scraping  5  of  6  urls.\n",
      "Scraping  6  of  6  urls.\n",
      "Here\n"
     ]
    }
   ],
   "source": [
    "betFairPrices, oddsCheckerPrices, valueFinds, allMarkets = runValueFinder(12)"
   ]
  },
  {
   "cell_type": "code",
   "execution_count": null,
   "metadata": {},
   "outputs": [],
   "source": [
    "for value in valueFinds:\n",
    "    value.printInfo()"
   ]
  },
  {
   "cell_type": "code",
   "execution_count": null,
   "metadata": {},
   "outputs": [],
   "source": []
  }
 ],
 "metadata": {
  "kernelspec": {
   "display_name": "Python 3",
   "language": "python",
   "name": "python3"
  },
  "language_info": {
   "codemirror_mode": {
    "name": "ipython",
    "version": 3
   },
   "file_extension": ".py",
   "mimetype": "text/x-python",
   "name": "python",
   "nbconvert_exporter": "python",
   "pygments_lexer": "ipython3",
   "version": "3.7.9"
  }
 },
 "nbformat": 4,
 "nbformat_minor": 4
}
