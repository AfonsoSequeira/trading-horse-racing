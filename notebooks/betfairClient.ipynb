{
 "cells": [
  {
   "cell_type": "code",
   "execution_count": null,
   "metadata": {},
   "outputs": [],
   "source": [
    "import betfairlightweight\n",
    "from betfairlightweight import filters\n",
    "import pandas as pd\n",
    "import numpy as np\n",
    "import os\n",
    "import datetime\n",
    "import json\n",
    "\n",
    "# Change this certs path to wherever you're storing your certificates\n",
    "#with open('credentials.json') as f:\n",
    "    #cred = jsonload(f)\n",
    "    #my_username = cred['username']\n",
    "    #my_password = cred['password']\n",
    "    #my_app_key = cred['app_key']\n",
    "    \n",
    "certs_path = (\"C:/Users/User/Desktop/Learning/Betting/trading-horse-racing/BetfairAPI/betfairDB.crt\" , \"C:/Users/User/Desktop/Learning/Betting/trading-horse-racing/BetfairAPI/client-2048.pem\" )\n",
    "\n",
    "trading = betfairlightweight.APIClient(username=my_username,\n",
    "                                       password=my_password,\n",
    "                                       app_key=my_app_key,\n",
    "                                       certs=certs_path)\n",
    "\n",
    "trading.login()"
   ]
  },
  {
   "cell_type": "code",
   "execution_count": null,
   "metadata": {},
   "outputs": [],
   "source": [
    "username = \"Sequeira99\"\n",
    "password = \"Santateresinha-99\"\n",
    "app_key = \"ZdeiKzkXsOiTAGwt\"\n",
    "\n"
   ]
  },
  {
   "cell_type": "code",
   "execution_count": null,
   "metadata": {},
   "outputs": [],
   "source": [
    "payload = \"username=\" + username + \"&password=\" + password\n",
    "headers = {\"X-Application\" : app_key, \"Content-Type\" : \"application/x-www-form-urlencoded\"}\n",
    "resp = requests.post(\"https://identitysso-cert.betfair.com/api/certlogin\",\n",
    "                     data = payload,\n",
    "                     cert = (\"C:/Users/User/Desktop/Learning/Betting/trading-horse-racing/BetfairAPI/betfairDB.crt\" , \"C:/Users/User/Desktop/Learning/Betting/trading-horse-racing/BetfairAPI/client-2048.pem\" ),\n",
    "                     headers = headers)\n",
    "\n",
    "resp_json = resp.json()\n",
    "bet_url = \"https://api.betfair.com/exchange/betting/json-rpc/v1/\"\n",
    "SSOID = resp_json[\"sessionToken\"]\n",
    "\n",
    "headers = {\"X-Application\": app_key, \"X-Authentication\": SSOID , \"content-type\": \"application/json\"}"
   ]
  },
  {
   "cell_type": "code",
   "execution_count": null,
   "metadata": {},
   "outputs": [],
   "source": [
    "SSOID"
   ]
  },
  {
   "cell_type": "code",
   "execution_count": null,
   "metadata": {},
   "outputs": [],
   "source": [
    "#, \"params\": {\"filter\": {\"eventTypeIds\":\"[\"7\"]\"}}}\n",
    "eventTypeID = '[\"7\"]'#horse racing\n",
    "country_ids = '[\"UK\", \"AU\"]'\n",
    "marketTypeCode = '[\"WIN\"]'\n",
    "marketStartTime = datetime.datetime.now().strftime('%Y-%m-%dT%H:%M:%SZ')\n",
    "marketEndTime = (datetime.datetime.now() + datetime.timedelta(hours = 12)).strftime('%Y-%m-%dT%H:%M:%SZ')\n",
    "\n",
    "now = datetime.datetime.now().strftime('%Y-%m-%dT%H:%M:%SZ')\n",
    "market_catalogue_req = '{\"jsonrpc\": \"2.0\", \"method\": \"SportsAPING/v1.0/listMarketCatalogue\",'\\\n",
    "                        '\"params\": {\"filter\":{\"eventTypeIds\":[\"' + eventTypeID + '\"],\"marketCountries\":[\"GB\"],\"marketTypeCodes\":[\"WIN\"],'\\\n",
    "                        '\"marketStartTime\":{\"from\":\"' + now + '\"}},\"sort\":\"FIRST_TO_START\",\"maxResults\":\"1\",\"marketProjection\":[\"RUNNER_METADATA\"]}, \"id\": 1}'\n",
    "\n",
    "today = datetime.datetime.now().strftime('%Y-%m-%dT%H:%M:%SZ')\n",
    "tomorrow = (datetime.datetime.now() + datetime.timedelta(hours = 24)).strftime('%Y-%m-%dT%H:%M:%SZ')\n",
    "listMeetingsRequests = '{\"jsonrpc\": \"2.0\", \"method\": \"SportsAPING/v1.0/listEvents\", \"params\": {\"filter\":{\"eventTypeIds\":[\"7\"],\"marketCountries\":[\"GB\",\"IE\", \"AU\"], \"marketStartTime\":{\"from\":\"' + today + '\"}, \"marketStartTime\":{\"to\":\"' + tomorrow + '\"}}}, \"id\": 1}'\n",
    "\n",
    "user_req = '{\"jsonrpc\": \"2.0\", \"method\": \"SportsAPING/v1.0/listMarketCatalogue\", \"params\":{\"filter\" : {\"eventTypeIds\" : '+ str(event_type_ids) + ',\"maxResults\": \"200\", \"marketCountries\" :'+ str(country_ids) + ', \"marketTypeCode\" :'+ str(marketTypeCode)  +', \"marketStartTime\" : {\"from\": } } , \"id\": 1}}'"
   ]
  },
  {
   "cell_type": "code",
   "execution_count": null,
   "metadata": {},
   "outputs": [],
   "source": [
    "req = requests.post(bet_url, listMeetingsRequests.encode(\"utf-8\"), headers = headers)\n",
    "jsonResponse = req.json()"
   ]
  },
  {
   "cell_type": "code",
   "execution_count": null,
   "metadata": {},
   "outputs": [],
   "source": [
    "import json\n",
    "import pandas as pd\n",
    "import requests, json, urllib\n",
    "import datetime"
   ]
  },
  {
   "cell_type": "code",
   "execution_count": null,
   "metadata": {},
   "outputs": [],
   "source": [
    "class betFairHorse:\n",
    "    def __init__(self, name = None, tag = None, event_name =  None, date = None):\n",
    "        self.name = name\n",
    "        self.tag = tag\n",
    "        self.event_name = event_name\n",
    "        self.date = date\n",
    "        self.prices = [None, None, None, None, None, None, None]\n",
    "        \n",
    "    def addPrice(self, place_number, price):\n",
    "        self.prices[place_number - 1] = price\n",
    "        \n",
    "    def printPrice(self):\n",
    "        print(\"Name: \", self.name,\n",
    "              \" Event: \", self.event_name,\n",
    "              \" Date: \", self.date,\n",
    "              \" Prices: \", self.prices)"
   ]
  },
  {
   "cell_type": "code",
   "execution_count": null,
   "metadata": {},
   "outputs": [],
   "source": [
    "class betFairClient:\n",
    "    \n",
    "    def __init__(self):\n",
    "        self.username = \"Sequeira99\"\n",
    "        self.password = \"Santateresinha-99\"\n",
    "        self.app_key = \"ZdeiKzkXsOiTAGwt\"\n",
    "        self.bet_url = None\n",
    "        self.headers = None#{\"X-Application\" : self.app_key, \"Content-Type\" : \"application/x-www-form-urlencoded\"}\n",
    "        \n",
    "    def login(self):\n",
    "        payload = \"username=\" + self.username + \"&password=\" + self.password\n",
    "        headers = {\"X-Application\" : self.app_key, \"Content-Type\" : \"application/x-www-form-urlencoded\"}\n",
    "\n",
    "        resp = requests.post(\"https://identitysso-cert.betfair.com/api/certlogin\",\n",
    "                     data = payload,\n",
    "                     cert = (\"C:/Users/User/Desktop/Learning/Betting/trading-horse-racing/BetfairAPI/betfairDB.crt\" , \"C:/Users/User/Desktop/Learning/Betting/trading-horse-racing/BetfairAPI/client-2048.pem\" ),\n",
    "                     headers = headers)\n",
    "        \n",
    "        print(resp)\n",
    "        resp_json = resp.json()\n",
    "        SSOID = resp_json[\"sessionToken\"]\n",
    "        \n",
    "        self.bet_url = \"https://api.betfair.com/exchange/betting/json-rpc/v1/\"\n",
    "        self.headers = {\"X-Application\": self.app_key, \"X-Authentication\": SSOID , \"content-type\": \"application/json\"}\n",
    "        \n",
    "    def getHorseRacingEvents(self, t_thresh):\n",
    "        today = datetime.datetime.now().strftime('%Y-%m-%dT%H:%M:%SZ')\n",
    "        tomorrow = (datetime.datetime.now() + datetime.timedelta(hours = t_thresh)).strftime('%Y-%m-%dT%H:%M:%SZ')\n",
    "        listMeetingsRequests = '{\"jsonrpc\": \"2.0\", \"method\": \"SportsAPING/v1.0/listEvents\", \"params\": {\"filter\":{\"eventTypeIds\":[\"7\"],\"marketCountries\":[\"GB\"], \"marketStartTime\":{\"from\":\"' + today + '\"}, \"marketStartTime\":{\"to\":\"' + tomorrow + '\"}}}, \"id\": 1}'\n",
    "        \n",
    "        req = requests.post(self.bet_url, listMeetingsRequests.encode(\"utf-8\"), headers = headers)\n",
    "        jsonResponse = req.json()  \n",
    "        \n",
    "        events = []\n",
    "        for x in jsonResponse[\"result\"]:\n",
    "            try:\n",
    "                if \"RFC\" in x[\"event\"][\"name\"] or \"F/C\" in x[\"event\"][\"name\"]:\n",
    "                    continue\n",
    "                else:\n",
    "                    events.append((x[\"event\"][\"venue\"], x[\"event\"][\"id\"]))\n",
    "            except:\n",
    "                continue\n",
    "                \n",
    "        #events = [(x[\"event\"][\"venue\"], x[\"event\"][\"id\"]) for x in jsonResponse[\"result\"]]\n",
    "        return events\n",
    "    \n",
    "    def getEventMarkets(self, event_id):\n",
    "        listMarketsRequest = '{\"jsonrpc\": \"2.0\", \"method\": \"SportsAPING/v1.0/listMarketCatalogue\", \"params\": {\"filter\":{\"eventIds\":[\"' + event_id + '\"],\"marketCountries\":[\"GB\",\"IE\"]}, \"maxResults\":\"100\", \"marketTypeCodes\":[\"WIN\",\"PLACE\"],\"marketBettingType\":\"ODDS\", \"numberOfWinners\": \"1\", \"marketProjection\":[\"EVENT\",\"RUNNER_DESCRIPTION\",\"MARKET_START_TIME\", \"MARKET_DESCRIPTION\"]}, \"id\": 1}'\n",
    "        \n",
    "        req = requests.post(self.bet_url, listMarketsRequest.encode(\"utf-8\"), headers = headers)\n",
    "        jsonResponse = req.json()\n",
    "        \n",
    "        compList = []\n",
    "        times = []\n",
    "        for market in jsonResponse[\"result\"]:\n",
    "            market_id = market[\"marketId\"]\n",
    "            startTime = market[\"marketStartTime\"]\n",
    "            market_type = market[\"description\"][\"marketType\"]\n",
    "            \n",
    "            # Convert the string to a datetime object\n",
    "            startTime = datetime.datetime.strptime(startTime, \"%Y-%m-%dT%H:%M:%S.%fZ\")\n",
    "\n",
    "            # Format the hour and minute parts of the datetime object\n",
    "            startTime = startTime.strftime(\"%H:%M\")\n",
    "            \n",
    "            times.append(startTime)\n",
    "            if market_type == \"EACH_WAY\" or market_type == 'MATCH_BET':\n",
    "                continue\n",
    "            else:\n",
    "                horses = [x[\"runnerName\"] for x in market[\"runners\"]]\n",
    "                compList.append((market_id, startTime, horses))\n",
    "        \n",
    "        event_times = list(set(times))\n",
    "        return compList,event_times\n",
    "    \n",
    "    def getMarketPrices(self, market_id):\n",
    "        listPricesRequest = '{\"jsonrpc\": \"2.0\", \"method\": \"SportsAPING/v1.0/listMarketBook\", \"params\": {\"marketIds\":[\"' + market_id + '\"],\"priceProjection\":{\"priceData\":[\"EX_BEST_OFFERS\"],\"virtualise\":\"true\"}}, \"id\": 1}'\n",
    "        \n",
    "        req = requests.post(self.bet_url, listPricesRequest.encode(\"utf-8\"), headers = headers)\n",
    "        jsonResponse = req.json()\n",
    "        runnerPrices = jsonResponse\n",
    "        \n",
    "        marketPlaceNumber = runnerPrices[\"result\"][0][\"numberOfWinners\"]\n",
    "        \n",
    "        horsePriceList = []\n",
    "        for horseIdx in range(0, len(runnerPrices[\"result\"][0][\"runners\"])):\n",
    "            if runnerPrices[\"result\"][0][\"runners\"][horseIdx][\"status\"] == 'ACTIVE':\n",
    "                if len(runnerPrices[\"result\"][0][\"runners\"][horseIdx][\"ex\"][\"availableToBack\"]) == 0:\n",
    "                    horseBackPrice = 0\n",
    "                else:\n",
    "                    horseBackPrice = runnerPrices[\"result\"][0][\"runners\"][horseIdx][\"ex\"][\"availableToBack\"][0][\"price\"]\n",
    "\n",
    "                if len(runnerPrices[\"result\"][0][\"runners\"][horseIdx][\"ex\"][\"availableToLay\"]) == 0:\n",
    "                    horseLayPrice = 0\n",
    "                else:\n",
    "                    horseLayPrice = runnerPrices[\"result\"][0][\"runners\"][horseIdx][\"ex\"][\"availableToLay\"][0][\"price\"]\n",
    "                    \n",
    "            else:\n",
    "                continue\n",
    "\n",
    "            horsePriceList.append((horseBackPrice, horseLayPrice))\n",
    "        return marketPlaceNumber, horsePriceList\n",
    "    \n",
    "    def getHorsesForEvent(self, event_id, event_name):\n",
    "        markets, times = myClient.getEventMarkets(event_id)\n",
    "        urls = [\"https://www.oddschecker.com/horse-racing/\" + event_name + \"/\" + str(x) + \"/winner\" for x in times]\n",
    "        allRaces = []\n",
    "        allRaces = pd.DataFrame(columns = [\"EventName\", \"Date\",\"Places\" , \"RunnerName\", \"Prices\"])\n",
    "        for market in markets:\n",
    "            data = []\n",
    "            market_id, date, runnerNames = market\n",
    "            places, prices = myClient.getMarketPrices(market_id)\n",
    "            \n",
    "        \n",
    "            for i in range(0, len(prices)):\n",
    "                #data.append((event_name, date, places, runnerNames[i], prices[i]))\n",
    "                allRaces.loc[len(allRaces)]= [event_name, date, places, runnerNames[i], prices[i]]\n",
    "\n",
    "            allRaces.append(data)\n",
    "            \n",
    "        perHorseData = [(name, prices) for (name, prices) in allRaces.groupby(\"RunnerName\")]\n",
    "        \n",
    "        horsePriceList = []\n",
    "        for horse in perHorseData:\n",
    "            idx = 0\n",
    "            for _, race in horse[1].iterrows():\n",
    "                idx += 1\n",
    "                if idx == 1:\n",
    "                    new_horse = betFairHorse(horse[0].lower().replace(\" \", \"-\"), \"notag\", event_name, race[\"Date\"])\n",
    "                    new_horse.addPrice(race[\"Places\"], race[\"Prices\"])\n",
    "                else:\n",
    "                    new_horse.addPrice(race[\"Places\"], race[\"Prices\"])\n",
    "                    \n",
    "            horsePriceList.append(new_horse)\n",
    "            \n",
    "        return horsePriceList, urls\n",
    "    \n",
    "    def getAllHorsePrices(self,t_thresh):\n",
    "        all_horses = []\n",
    "        events = self.getHorseRacingEvents(t_thresh)\n",
    "        url_list = []\n",
    "        \n",
    "        for event_name, event_id in events:\n",
    "            horses_in_event, urls_event = self.getHorsesForEvent(event_id, event_name)\n",
    "            all_horses.append(horses_in_event)\n",
    "            url_list.append(urls_event)\n",
    "            \n",
    "        return sum(all_horses,[]), urls_event\n",
    "        "
   ]
  },
  {
   "cell_type": "code",
   "execution_count": null,
   "metadata": {},
   "outputs": [],
   "source": [
    "myClient = betFairClient()"
   ]
  },
  {
   "cell_type": "code",
   "execution_count": null,
   "metadata": {},
   "outputs": [],
   "source": [
    "myClient.login()"
   ]
  },
  {
   "cell_type": "code",
   "execution_count": null,
   "metadata": {},
   "outputs": [],
   "source": [
    "myres = myClient.getHorseRacingEvents(2)"
   ]
  },
  {
   "cell_type": "code",
   "execution_count": null,
   "metadata": {},
   "outputs": [],
   "source": [
    "myres"
   ]
  },
  {
   "cell_type": "code",
   "execution_count": null,
   "metadata": {},
   "outputs": [],
   "source": [
    "myMark =  myClient.getEventMarkets('32014729')"
   ]
  },
  {
   "cell_type": "code",
   "execution_count": null,
   "metadata": {},
   "outputs": [],
   "source": [
    "myMark[2][\"result\"][1]"
   ]
  },
  {
   "cell_type": "code",
   "execution_count": null,
   "metadata": {},
   "outputs": [],
   "source": [
    "pl, myHorses =  myClient.getMarketPrices('1.208534147')"
   ]
  },
  {
   "cell_type": "code",
   "execution_count": null,
   "metadata": {},
   "outputs": [],
   "source": [
    "myHorses"
   ]
  },
  {
   "cell_type": "code",
   "execution_count": null,
   "metadata": {},
   "outputs": [],
   "source": [
    "req[\"result\"][0][\"runners\"][0][\"status\"]"
   ]
  },
  {
   "cell_type": "code",
   "execution_count": null,
   "metadata": {},
   "outputs": [],
   "source": [
    "myres, urls = myClient.getAllHorsePrices(2)"
   ]
  },
  {
   "cell_type": "code",
   "execution_count": null,
   "metadata": {},
   "outputs": [],
   "source": [
    "len(myres)"
   ]
  },
  {
   "cell_type": "code",
   "execution_count": null,
   "metadata": {},
   "outputs": [],
   "source": [
    "for race in myres:\n",
    "    race.printPrice()"
   ]
  },
  {
   "cell_type": "code",
   "execution_count": null,
   "metadata": {},
   "outputs": [],
   "source": [
    "urls"
   ]
  },
  {
   "cell_type": "code",
   "execution_count": null,
   "metadata": {},
   "outputs": [],
   "source": [
    "str(myList)"
   ]
  },
  {
   "cell_type": "code",
   "execution_count": null,
   "metadata": {},
   "outputs": [],
   "source": [
    "myList = [\"1\", \"2\"]"
   ]
  },
  {
   "cell_type": "code",
   "execution_count": null,
   "metadata": {},
   "outputs": [],
   "source": [
    "app_key"
   ]
  },
  {
   "cell_type": "code",
   "execution_count": null,
   "metadata": {},
   "outputs": [],
   "source": [
    "resp_json[\"sessionToken\"]"
   ]
  }
 ],
 "metadata": {
  "kernelspec": {
   "display_name": "Python 3",
   "language": "python",
   "name": "python3"
  },
  "language_info": {
   "codemirror_mode": {
    "name": "ipython",
    "version": 3
   },
   "file_extension": ".py",
   "mimetype": "text/x-python",
   "name": "python",
   "nbconvert_exporter": "python",
   "pygments_lexer": "ipython3",
   "version": "3.7.9"
  }
 },
 "nbformat": 4,
 "nbformat_minor": 4
}
